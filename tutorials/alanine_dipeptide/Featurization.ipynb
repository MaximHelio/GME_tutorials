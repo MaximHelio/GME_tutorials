{
 "cells": [
  {
   "cell_type": "code",
   "execution_count": 1,
   "id": "c0e0f10a",
   "metadata": {},
   "outputs": [],
   "source": [
    "MDtrajs_dir=\"./MDtrajs/\"\n",
    "Featurization_dir=\"./Featurization/\"\n",
    "GMRQ_dir=\"./GMRQ/\"\n",
    "MicroMSM_dir='./MicroMSM/'\n",
    "MacroMSM_dir='./MacroMSM/'\n",
    "\n",
    "topfile = MDtrajs_dir + \"ala2.pdb\""
   ]
  },
  {
   "cell_type": "markdown",
   "id": "739a9243",
   "metadata": {},
   "source": [
    "### Generate the list of heavy atom pairs"
   ]
  },
  {
   "cell_type": "code",
   "execution_count": 2,
   "id": "485683a4",
   "metadata": {},
   "outputs": [],
   "source": [
    "import itertools\n",
    "from rdkit import Chem\n",
    "\n",
    "def extract_heavy_atom_idx(pdb_file_path):\n",
    "    heavy_atom_idx = []\n",
    "    molh = Chem.MolFromPDBFile(pdb_file_path, removeHs=False)\n",
    "    for atom in molh.GetAtoms():\n",
    "        if atom.GetSymbol() not in ['H', 'D']:\n",
    "            heavy_atom_idx.append(atom.GetIdx())\n",
    "    return heavy_atom_idx\n",
    "\n",
    "heavy_atom_idx = extract_heavy_atom_idx(topfile)\n",
    "\n",
    "with open(MDtrajs_dir + 'heavy_atom_pairs_list.txt', 'w') as file:\n",
    "    for pair in itertools.combinations(heavy_atom_idx, 2):\n",
    "        file.write(f\"{pair[0]} {pair[1]}\\n\")"
   ]
  },
  {
   "cell_type": "markdown",
   "id": "31dabd4d",
   "metadata": {},
   "source": [
    "### Featurization"
   ]
  },
  {
   "cell_type": "code",
   "execution_count": null,
   "id": "e4fc9644",
   "metadata": {},
   "outputs": [],
   "source": [
    "from msmbuilder.featurizer import AtomPairsFeaturizer\n",
    "from msmbuilder.dataset import dataset\n",
    "import numpy as np\n",
    "\n",
    "# Please reach out to our team via email to request access to the MD trajectories if in need.\n",
    "xyz = dataset(MDtrajs_dir + \"*.xtc\", topology = topfile, stride=1)\n",
    "atom_pair_list = np.loadtxt(MDtrajs_dir + 'heavy_atom_pairs_list.txt')\n",
    "featurizer = AtomPairsFeaturizer(atom_pair_list)\n",
    "ftrajs = featurizer.fit_transform(xyz)\n",
    "np.save(Featurization_dir + 'ftrajs.npy', ftrajs)"
   ]
  }
 ],
 "metadata": {
  "kernelspec": {
   "display_name": "Python 3 (ipykernel)",
   "language": "python",
   "name": "python3"
  },
  "language_info": {
   "codemirror_mode": {
    "name": "ipython",
    "version": 3
   },
   "file_extension": ".py",
   "mimetype": "text/x-python",
   "name": "python",
   "nbconvert_exporter": "python",
   "pygments_lexer": "ipython3",
   "version": "3.9.16"
  }
 },
 "nbformat": 4,
 "nbformat_minor": 5
}
