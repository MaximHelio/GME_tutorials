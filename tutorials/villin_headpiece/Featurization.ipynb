{
 "cells": [
  {
   "cell_type": "code",
   "execution_count": null,
   "id": "a689b51c",
   "metadata": {},
   "outputs": [],
   "source": [
    "# Create these folders\n",
    "MDtrajs_dir=\"./MDtrajs/\" # MD trajectories and topology file\n",
    "Featurization_dir=\"./Featurization/\"\n",
    "FSelection_dir = \"./FSel/\"\n",
    "GMRQ_dir=\"./GMRQ/\"\n",
    "MicroMSM_dir='./MicroMSM/'\n",
    "MacroMSM_dir='./MacroMSM/'"
   ]
  },
  {
   "cell_type": "markdown",
   "id": "83f67318",
   "metadata": {},
   "source": [
    "### Featurization"
   ]
  },
  {
   "cell_type": "code",
   "execution_count": null,
   "id": "c208595c",
   "metadata": {},
   "outputs": [],
   "source": [
    "from msmbuilder.featurizer import ContactFeaturizer\n",
    "from msmbuilder.dataset import dataset\n",
    "import numpy as np\n",
    "import mdtraj as md\n",
    "\n",
    "# Featurizer based on residue-residue distances between their alpha carbons\n",
    "Cfeaturizer = ContactFeaturizer(scheme='ca')\n",
    "\n",
    "# Connect D.E.Shaw Research for MD trajectories\n",
    "for i in range(153):\n",
    "    xyz = dataset(MDtrajs_dir + 'pnas2012-2f4k-360K-protein-%03d.dcd'%i, \n",
    "                  topology = MDtrajs_dir + \"villin_structure.pdb\", stride=1)\n",
    "    traj = Cfeaturizer.fit_transform(xyz)[0]\n",
    "    np.save(Featurization_dir + 'ftraj_%03d.npy'%i, traj)"
   ]
  }
 ],
 "metadata": {
  "kernelspec": {
   "display_name": "Python 3 (ipykernel)",
   "language": "python",
   "name": "python3"
  },
  "language_info": {
   "codemirror_mode": {
    "name": "ipython",
    "version": 3
   },
   "file_extension": ".py",
   "mimetype": "text/x-python",
   "name": "python",
   "nbconvert_exporter": "python",
   "pygments_lexer": "ipython3",
   "version": "3.9.16"
  }
 },
 "nbformat": 4,
 "nbformat_minor": 5
}
